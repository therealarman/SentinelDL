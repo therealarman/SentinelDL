{
 "cells": [
  {
   "cell_type": "code",
   "execution_count": 1,
   "id": "8d280346",
   "metadata": {},
   "outputs": [
    {
     "name": "stderr",
     "output_type": "stream",
     "text": [
      "/mnt/beegfs/home/alexisa2019/.conda/envs/myCdom/lib/python3.10/site-packages/tqdm/auto.py:22: TqdmWarning: IProgress not found. Please update jupyter and ipywidgets. See https://ipywidgets.readthedocs.io/en/stable/user_install.html\n",
      "  from .autonotebook import tqdm as notebook_tqdm\n"
     ]
    }
   ],
   "source": [
    "import eumdac\n",
    "import datetime\n",
    "import shutil\n",
    "from datetime import timedelta\n",
    "from sentinelsat import read_geojson, geojson_to_wkt\n",
    "import zipfile\n",
    "import gzip\n",
    "import os\n",
    "\n",
    "download_dir = os.path.join(os.getcwd(), \"products\")\n",
    "os.makedirs(download_dir, exist_ok=True)"
   ]
  },
  {
   "cell_type": "code",
   "execution_count": 2,
   "id": "35f76289",
   "metadata": {},
   "outputs": [],
   "source": [
    "consumer_key = 'yawsJIqGoAetBf_MqpcByUwnrWMa'\n",
    "consumer_secret = 'w6nWuFAtEgPhFESfK7Q4MzOs9t0a'\n",
    "\n",
    "credentials = (consumer_key, consumer_secret)\n",
    "\n",
    "token = eumdac.AccessToken(credentials)"
   ]
  },
  {
   "cell_type": "code",
   "execution_count": 3,
   "id": "0b7c330d",
   "metadata": {},
   "outputs": [
    {
     "name": "stdout",
     "output_type": "stream",
     "text": [
      "OLCI Level 1B Full Resolution - Sentinel-3\n"
     ]
    }
   ],
   "source": [
    "datastore = eumdac.DataStore(token)\n",
    "collectionID = 'EO:EUM:DAT:0409'\n",
    "\n",
    "selected_collection = datastore.get_collection(collectionID)\n",
    "print(selected_collection.title)"
   ]
  },
  {
   "cell_type": "code",
   "execution_count": 20,
   "id": "a2d31888",
   "metadata": {},
   "outputs": [
    {
     "name": "stdout",
     "output_type": "stream",
     "text": [
      "POLYGON((-81.0956 26.6757,-80.5449 26.6757,-80.5449 27.2436,-81.0956 27.2436,-81.0956 26.6757))\n"
     ]
    }
   ],
   "source": [
    "geojson = '/mnt/beegfs/home/alexisa2019/Projects/GOMEX_FB.geojson'\n",
    "footprint = geojson_to_wkt(read_geojson(geojson))\n",
    "footprint = footprint[footprint.find('(')+1:footprint.find(')')+2]\n",
    "\n",
    "print(footprint)"
   ]
  },
  {
   "cell_type": "code",
   "execution_count": 21,
   "id": "598bc701",
   "metadata": {},
   "outputs": [
    {
     "name": "stdout",
     "output_type": "stream",
     "text": [
      "S3A_OL_1_EFR____20220324T154054_20220324T154354_20220325T194954_0179_083_225_2520_MAR_O_NT_002.SEN3\n",
      "S3B_OL_1_EFR____20220324T150127_20220324T150427_20220325T201204_0180_064_082_2520_MAR_O_NT_002.SEN3\n",
      "S3B_OL_1_EFR____20220323T152738_20220323T153038_20220324T205601_0179_064_068_2520_MAR_O_NT_002.SEN3\n"
     ]
    }
   ],
   "source": [
    "start = datetime.date(2022, 3, 23)\n",
    "end = datetime.date(2022, 3, 24)\n",
    "products = selected_collection.search(geo=footprint, dtstart=start, dtend=end)\n",
    "\n",
    "for product in products:\n",
    "    print(product)"
   ]
  },
  {
   "cell_type": "code",
   "execution_count": 3,
   "id": "cca09835",
   "metadata": {},
   "outputs": [],
   "source": [
    "def Sentinel_request(consumer_key, consumer_secret,\n",
    "                     collectionID, geojson_file, download_path,\n",
    "                     start_date = None, end_date = None, DlFolName = None):\n",
    "    \n",
    "    pathList = []\n",
    "    \n",
    "    credentials = (consumer_key, consumer_secret)\n",
    "    token = eumdac.AccessToken(credentials)\n",
    "    datastore = eumdac.DataStore(token)\n",
    "\n",
    "    footprint = geojson_to_wkt(read_geojson(geojson_file))\n",
    "    footprint = footprint[footprint.find('(')+1:footprint.find(')')+2]\n",
    "    \n",
    "    selected_collection = datastore.get_collection(collectionID)\n",
    "    print(selected_collection.title)\n",
    "    \n",
    "    if(start_date == None or end_date == None):\n",
    "        start_date = yesterday.strftime(\"%Y%m%d\")\n",
    "        end_date = today.strftime(\"%Y%m%d\")\n",
    "    \n",
    "    print(f'Searching date {start_date.strftime(\"%m/%d/%Y\")} to {end_date.strftime(\"%m/%d/%Y\")}')\n",
    "    \n",
    "    if(DlFolName == None):\n",
    "        newDir = collectionID + \"_\" + str(start) + \"-\" + str(end)\n",
    "    else:\n",
    "        newDir = DlFolName\n",
    "    \n",
    "    product_folder = os.path.join(download_path, newDir)\n",
    "    print(f'Creating path {product_folder}')\n",
    "    os.makedirs(product_folder, exist_ok=True)\n",
    "    print('Path created.')\n",
    "\n",
    "    products = selected_collection.search(geo=footprint, dtstart=start_date, dtend=end_date)\n",
    "    \n",
    "    for product in products:\n",
    "        print(product)\n",
    "        \n",
    "    for product in products:\n",
    "        selected_product = datastore.get_product(product_id=str(product), collection_id=collectionID)\n",
    "\n",
    "        with selected_product.open() as fsrc, open(os.path.join(product_folder, fsrc.name), mode='wb') as fdst:\n",
    "            \n",
    "            print(f'Downloading {fsrc.name}')\n",
    "            shutil.copyfileobj(fsrc, fdst)\n",
    "            print(f'Download of product {fsrc.name} finished.')\n",
    "            \n",
    "            filePath = os.path.join(product_folder, fsrc.name)\n",
    "\n",
    "            pathList.append(filePath)\n",
    "            \n",
    "    for path in pathList:                            \n",
    "        with zipfile.ZipFile(path, 'r') as zip_ref:\n",
    "            zip_ref.extractall(product_folder)\n",
    "            \n",
    "        os.remove(path)"
   ]
  },
  {
   "cell_type": "code",
   "execution_count": 33,
   "id": "56a901a2",
   "metadata": {},
   "outputs": [],
   "source": [
    "os.makedirs('/mnt/beegfs/home/alexisa2019/Projects/products/EO:EUM:DAT:0409_2022-03-23-2022-03-24', exist_ok=True)"
   ]
  },
  {
   "cell_type": "code",
   "execution_count": 5,
   "id": "7ada2632",
   "metadata": {
    "scrolled": false
   },
   "outputs": [
    {
     "name": "stdout",
     "output_type": "stream",
     "text": [
      "OLCI Level 1B Full Resolution - Sentinel-3\n",
      "Searching date 03/23/2022 to 03/24/2022\n",
      "Creating path /mnt/beegfs/home/alexisa2019/Projects/products/EO:EUM:DAT:0409_2022-03-23-2022-03-24\n",
      "Path created.\n",
      "S3B_OL_1_EFR____20220324T164227_20220324T164527_20220325T203552_0179_064_083_2520_MAR_O_NT_002.SEN3\n",
      "S3B_OL_1_EFR____20220324T163927_20220324T164227_20220325T203532_0180_064_083_2340_MAR_O_NT_002.SEN3\n",
      "S3A_OL_1_EFR____20220324T154054_20220324T154354_20220325T194954_0179_083_225_2520_MAR_O_NT_002.SEN3\n",
      "S3A_OL_1_EFR____20220324T153754_20220324T154054_20220325T194929_0179_083_225_2340_MAR_O_NT_002.SEN3\n",
      "S3B_OL_1_EFR____20220324T150127_20220324T150427_20220325T201204_0180_064_082_2520_MAR_O_NT_002.SEN3\n",
      "S3B_OL_1_EFR____20220324T145827_20220324T150127_20220325T201137_0179_064_082_2340_MAR_O_NT_002.SEN3\n",
      "S3A_OL_1_EFR____20220323T160704_20220323T161004_20220324T202038_0179_083_211_2520_MAR_O_NT_002.SEN3\n",
      "S3A_OL_1_EFR____20220323T160404_20220323T160704_20220324T202014_0179_083_211_2340_MAR_O_NT_002.SEN3\n",
      "S3B_OL_1_EFR____20220323T152738_20220323T153038_20220324T205601_0179_064_068_2520_MAR_O_NT_002.SEN3\n",
      "S3B_OL_1_EFR____20220323T152438_20220323T152738_20220324T205531_0179_064_068_2340_MAR_O_NT_002.SEN3\n",
      "Downloading S3B_OL_1_EFR____20220324T164227_20220324T164527_20220325T203552_0179_064_083_2520_MAR_O_NT_002.SEN3.zip\n",
      "Download of product S3B_OL_1_EFR____20220324T164227_20220324T164527_20220325T203552_0179_064_083_2520_MAR_O_NT_002.SEN3.zip finished.\n",
      "Downloading S3B_OL_1_EFR____20220324T163927_20220324T164227_20220325T203532_0180_064_083_2340_MAR_O_NT_002.SEN3.zip\n",
      "Download of product S3B_OL_1_EFR____20220324T163927_20220324T164227_20220325T203532_0180_064_083_2340_MAR_O_NT_002.SEN3.zip finished.\n",
      "Downloading S3A_OL_1_EFR____20220324T154054_20220324T154354_20220325T194954_0179_083_225_2520_MAR_O_NT_002.SEN3.zip\n",
      "Download of product S3A_OL_1_EFR____20220324T154054_20220324T154354_20220325T194954_0179_083_225_2520_MAR_O_NT_002.SEN3.zip finished.\n",
      "Downloading S3A_OL_1_EFR____20220324T153754_20220324T154054_20220325T194929_0179_083_225_2340_MAR_O_NT_002.SEN3.zip\n",
      "Download of product S3A_OL_1_EFR____20220324T153754_20220324T154054_20220325T194929_0179_083_225_2340_MAR_O_NT_002.SEN3.zip finished.\n",
      "Downloading S3B_OL_1_EFR____20220324T150127_20220324T150427_20220325T201204_0180_064_082_2520_MAR_O_NT_002.SEN3.zip\n",
      "Download of product S3B_OL_1_EFR____20220324T150127_20220324T150427_20220325T201204_0180_064_082_2520_MAR_O_NT_002.SEN3.zip finished.\n",
      "Downloading S3B_OL_1_EFR____20220324T145827_20220324T150127_20220325T201137_0179_064_082_2340_MAR_O_NT_002.SEN3.zip\n",
      "Download of product S3B_OL_1_EFR____20220324T145827_20220324T150127_20220325T201137_0179_064_082_2340_MAR_O_NT_002.SEN3.zip finished.\n",
      "Downloading S3A_OL_1_EFR____20220323T160704_20220323T161004_20220324T202038_0179_083_211_2520_MAR_O_NT_002.SEN3.zip\n",
      "Download of product S3A_OL_1_EFR____20220323T160704_20220323T161004_20220324T202038_0179_083_211_2520_MAR_O_NT_002.SEN3.zip finished.\n",
      "Downloading S3A_OL_1_EFR____20220323T160404_20220323T160704_20220324T202014_0179_083_211_2340_MAR_O_NT_002.SEN3.zip\n",
      "Download of product S3A_OL_1_EFR____20220323T160404_20220323T160704_20220324T202014_0179_083_211_2340_MAR_O_NT_002.SEN3.zip finished.\n",
      "Downloading S3B_OL_1_EFR____20220323T152738_20220323T153038_20220324T205601_0179_064_068_2520_MAR_O_NT_002.SEN3.zip\n",
      "Download of product S3B_OL_1_EFR____20220323T152738_20220323T153038_20220324T205601_0179_064_068_2520_MAR_O_NT_002.SEN3.zip finished.\n",
      "Downloading S3B_OL_1_EFR____20220323T152438_20220323T152738_20220324T205531_0179_064_068_2340_MAR_O_NT_002.SEN3.zip\n",
      "Download of product S3B_OL_1_EFR____20220323T152438_20220323T152738_20220324T205531_0179_064_068_2340_MAR_O_NT_002.SEN3.zip finished.\n"
     ]
    }
   ],
   "source": [
    "consumer_key = 'yawsJIqGoAetBf_MqpcByUwnrWMa'\n",
    "consumer_secret = 'w6nWuFAtEgPhFESfK7Q4MzOs9t0a'\n",
    "# geojson = '/mnt/beegfs/home/alexisa2019/Projects/GOMEX_FB.geojson'\n",
    "geojson = '/mnt/beegfs/home/alexisa2019/Projects/LakeO.geojson'\n",
    "download_dir = os.path.join(os.getcwd(), \"products\")\n",
    "start = datetime.date(2022, 3, 23)\n",
    "end = datetime.date(2022, 3, 24)\n",
    "\n",
    "Sentinel_request(consumer_key, consumer_secret, 'EO:EUM:DAT:0409', geojson, download_dir, start, end, 'LakeOTest')"
   ]
  },
  {
   "cell_type": "code",
   "execution_count": 5,
   "id": "0f2f8a94",
   "metadata": {},
   "outputs": [
    {
     "name": "stdout",
     "output_type": "stream",
     "text": [
      "2022-03-23\n"
     ]
    }
   ],
   "source": [
    "print(datetime.date(2022, 3, 23))"
   ]
  }
 ],
 "metadata": {
  "kernelspec": {
   "display_name": "Python 3 (ipykernel)",
   "language": "python",
   "name": "python3"
  },
  "language_info": {
   "codemirror_mode": {
    "name": "ipython",
    "version": 3
   },
   "file_extension": ".py",
   "mimetype": "text/x-python",
   "name": "python",
   "nbconvert_exporter": "python",
   "pygments_lexer": "ipython3",
   "version": "3.10.4"
  }
 },
 "nbformat": 4,
 "nbformat_minor": 5
}
