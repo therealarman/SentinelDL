{
 "cells": [
  {
   "cell_type": "code",
   "execution_count": null,
   "id": "befac502",
   "metadata": {},
   "outputs": [],
   "source": [
    "import eumdac\n",
    "import datetime\n",
    "import shutil\n",
    "from datetime import timedelta\n",
    "from sentinelsat import read_geojson, geojson_to_wkt\n",
    "import zipfile\n",
    "import gzip\n",
    "import os\n",
    "import pandas as pd\n",
    "from glob import glob\n",
    "\n",
    "download_dir = os.path.join(os.getcwd(), \"products\")\n",
    "os.makedirs(download_dir, exist_ok=True)"
   ]
  },
  {
   "cell_type": "code",
   "execution_count": null,
   "id": "841a84ee",
   "metadata": {},
   "outputs": [],
   "source": [
    "def get_datastore(consumer_key, consumer_secret):\n",
    "    token = eumdac.AccessToken((consumer_key, consumer_secret))\n",
    "    print(f\"This token '{token}' expires {token.expiration}\")\n",
    "    return eumdac.DataStore(token)\n",
    "\n",
    "def Sentinel_request(datastore, roi,\n",
    "                     collectionID='EO:EUM:DAT:0409',\n",
    "#                      geojson_file, \n",
    "                     opath = './',\n",
    "                     start_date = None, end_date = None):\n",
    "\n",
    "    WKT = 'POLYGON(({}))'.format(','.join([\"{} {}\".format(*coord) for coord in roi]))\n",
    "    selected_collection = datastore.get_collection(collectionID)\n",
    "    print(selected_collection.title)\n",
    "    \n",
    "    if(end_date == None):\n",
    "        end_date = datetime.date.today()\n",
    "    if(start_date == None):\n",
    "        start_date = end_date-timedelta(days=1)\n",
    "        \n",
    "    start_date = pd.to_datetime(start_date)\n",
    "    end_date = pd.to_datetime(end_date)\n",
    "\n",
    "    print('Searching from %s to %s' %(start_date, end_date))\n",
    "    products = selected_collection.search(geo=WKT, \n",
    "                                          dtstart=start_date, \n",
    "                                          dtend=end_date)\n",
    "    print(f'Found Datasets: {len(products)} datasets for the given time range')\n",
    "    for product in products:\n",
    "        with product.open() as fsrc, open(opath+fsrc.name, mode='wb') as fdst:\n",
    "#             if os.path.isfile(fdst.name):\n",
    "            if os.path.getsize(fdst.name)>0:\n",
    "\n",
    "                print(f'Product {fdst.name} exists.')\n",
    "            else:\n",
    "                shutil.copyfileobj(fsrc, fdst)\n",
    "                print(f'Download of product {product} finished.')\n",
    "    print('All downloads are finished.')\n",
    "            \n",
    "    rpath = opath+'S3_%s_%s' % (start_date.strftime(\"%Y%m%d\"),\n",
    "                                start_date.strftime(\"%Y%m%d\"))                    \n",
    "    for f in glob(opath+'S3*.zip'):\n",
    "        try:\n",
    "            with zipfile.ZipFile(f, 'r') as zip_ref:\n",
    "                print('Unziping %s' %f)\n",
    "                zip_ref.extractall(rpath)\n",
    "                os.remove(f)\n",
    "        except:\n",
    "            print('Bad zip file: %s' %f)\n",
    "\n",
    "    print(f'Done! Files in {rpath}')"
   ]
  },
  {
   "cell_type": "code",
   "execution_count": 3,
   "id": "ce41d917",
   "metadata": {},
   "outputs": [
    {
     "name": "stdout",
     "output_type": "stream",
     "text": [
      "GOMEX_FB.geojson  Sentinel DL 2.ipynb  Untitled.ipynb  \u001b[0m\u001b[01;34mproducts\u001b[0m/\r\n",
      "LakeO.geojson     Sentinel DL.ipynb    flbay.geojson\r\n",
      "README.md         Sentinel Vis.ipynb   gomex.geojson\r\n"
     ]
    }
   ],
   "source": [
    "ls"
   ]
  },
  {
   "cell_type": "code",
   "execution_count": null,
   "id": "c68e5f2c",
   "metadata": {},
   "outputs": [],
   "source": [
    "consumer_key = 'yawsJIqGoAetBf_MqpcByUwnrWMa'\n",
    "consumer_secret = 'w6nWuFAtEgPhFESfK7Q4MzOs9t0a'\n",
    "\n",
    "roi = [[-81.0955810546875,26.675685969067487],\n",
    "       [-80.54489135742188,26.675685969067487],\n",
    "       [-80.54489135742188,27.243641579169292],\n",
    "       [-81.0955810546875,27.243641579169292],\n",
    "       [-81.0955810546875,26.675685969067487]]\n",
    "\n",
    "datastore = get_datastore(consumer_key, consumer_secret)\n",
    "Sentinel_request(datastore, roi, opath='./products/', start_date=datetime.date(2022,3,23),\n",
    "                 end_date=datetime.date(2022,3,24))"
   ]
  },
  {
   "cell_type": "code",
   "execution_count": null,
   "id": "d0ff9e31",
   "metadata": {},
   "outputs": [],
   "source": [
    "consumer_key = 'yawsJIqGoAetBf_MqpcByUwnrWMa'\n",
    "consumer_secret = 'w6nWuFAtEgPhFESfK7Q4MzOs9t0a'\n",
    "\n",
    "roi = [[-93.97705078125,24.86650252692691],\n",
    "       [-79.25537109375,24.86650252692691],\n",
    "       [-79.25537109375,31.372399104880525],\n",
    "       [-93.97705078125,31.372399104880525],\n",
    "       [-93.97705078125,24.86650252692691]]\n",
    "\n",
    "datastore = get_datastore(consumer_key, consumer_secret)\n",
    "Sentinel_request(datastore, roi, opath='./products/', start_date=datetime.date(2022,3,23),\n",
    "                 end_date=datetime.date(2022,3,24))"
   ]
  }
 ],
 "metadata": {
  "kernelspec": {
   "display_name": "Python 3 (ipykernel)",
   "language": "python",
   "name": "python3"
  },
  "language_info": {
   "codemirror_mode": {
    "name": "ipython",
    "version": 3
   },
   "file_extension": ".py",
   "mimetype": "text/x-python",
   "name": "python",
   "nbconvert_exporter": "python",
   "pygments_lexer": "ipython3",
   "version": "3.10.4"
  }
 },
 "nbformat": 4,
 "nbformat_minor": 5
}
