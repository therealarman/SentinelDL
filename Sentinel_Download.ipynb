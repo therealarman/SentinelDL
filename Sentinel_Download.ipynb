{
 "cells": [
  {
   "cell_type": "code",
   "execution_count": 1,
   "id": "c56097be",
   "metadata": {},
   "outputs": [
    {
     "name": "stdout",
     "output_type": "stream",
     "text": [
      "Collecting eumdac\n",
      "  Downloading eumdac-1.1.0-py3-none-any.whl (30 kB)\n",
      "Requirement already satisfied: pyyaml in /mnt/beegfs/home/alexisa2019/.conda/envs/myCdom/lib/python3.10/site-packages (from eumdac) (6.0)\n",
      "Requirement already satisfied: requests>=2.5.0 in /mnt/beegfs/home/alexisa2019/.conda/envs/myCdom/lib/python3.10/site-packages (from eumdac) (2.27.1)\n",
      "Requirement already satisfied: certifi>=2017.4.17 in /mnt/beegfs/home/alexisa2019/.conda/envs/myCdom/lib/python3.10/site-packages (from requests>=2.5.0->eumdac) (2022.5.18.1)\n",
      "Requirement already satisfied: charset-normalizer~=2.0.0 in /mnt/beegfs/home/alexisa2019/.conda/envs/myCdom/lib/python3.10/site-packages (from requests>=2.5.0->eumdac) (2.0.12)\n",
      "Requirement already satisfied: idna<4,>=2.5 in /mnt/beegfs/home/alexisa2019/.conda/envs/myCdom/lib/python3.10/site-packages (from requests>=2.5.0->eumdac) (3.3)\n",
      "Requirement already satisfied: urllib3<1.27,>=1.21.1 in /mnt/beegfs/home/alexisa2019/.conda/envs/myCdom/lib/python3.10/site-packages (from requests>=2.5.0->eumdac) (1.26.9)\n",
      "Installing collected packages: eumdac\n",
      "Successfully installed eumdac-1.1.0\n"
     ]
    }
   ],
   "source": [
    "#conda install in the correct environment\n",
    "#!pip install eumdac"
   ]
  },
  {
   "cell_type": "code",
   "execution_count": 1,
   "id": "733ada67",
   "metadata": {},
   "outputs": [
    {
     "name": "stderr",
     "output_type": "stream",
     "text": [
      "/mnt/beegfs/home/alexisa2019/.conda/envs/myCdom/lib/python3.10/site-packages/tqdm/auto.py:22: TqdmWarning: IProgress not found. Please update jupyter and ipywidgets. See https://ipywidgets.readthedocs.io/en/stable/user_install.html\n",
      "  from .autonotebook import tqdm as notebook_tqdm\n"
     ]
    }
   ],
   "source": [
    "import eumdac\n",
    "import datetime\n",
    "import shutil\n",
    "from datetime import timedelta\n",
    "from sentinelsat import read_geojson, geojson_to_wkt\n",
    "import zipfile\n",
    "import gzip\n",
    "import os\n",
    "import pandas as pd\n",
    "from glob import glob\n",
    "\n",
    "download_dir = os.path.join(os.getcwd(), \"products\")\n",
    "os.makedirs(download_dir, exist_ok=True)"
   ]
  },
  {
   "cell_type": "code",
   "execution_count": 3,
   "id": "bddc5cff",
   "metadata": {},
   "outputs": [],
   "source": [
    "def get_datastore(consumer_key, consumer_secret):\n",
    "    token = eumdac.AccessToken((consumer_key, consumer_secret))\n",
    "    print(f\"This token '{token}' expires {token.expiration}\")\n",
    "    return eumdac.DataStore(token)\n",
    "\n",
    "def Sentinel_request(datastore, roi,\n",
    "                     collectionID='EO:EUM:DAT:0409',\n",
    "#                      geojson_file, \n",
    "                     opath = './',\n",
    "                     start_date = None, end_date = None):\n",
    "\n",
    "    WKT = 'POLYGON(({}))'.format(','.join([\"{} {}\".format(*coord) for coord in roi]))\n",
    "    selected_collection = datastore.get_collection(collectionID)\n",
    "    print(selected_collection.title)\n",
    "    \n",
    "    if(end_date == None):\n",
    "        end_date = datetime.date.today()\n",
    "    if(start_date == None):\n",
    "        start_date = end_date-timedelta(days=1)\n",
    "        \n",
    "    start_date = pd.to_datetime(start_date)\n",
    "    end_date = pd.to_datetime(end_date)\n",
    "\n",
    "    print('Searching from %s to %s' %(start_date, end_date))\n",
    "    products = selected_collection.search(geo=WKT, \n",
    "                                          dtstart=start_date, \n",
    "                                          dtend=end_date)\n",
    "    print(f'Found Datasets: {len(products)} datasets for the given time range')\n",
    "    for product in products:\n",
    "        with product.open() as fsrc, open(opath+fsrc.name, mode='wb') as fdst:\n",
    "#             if os.path.isfile(fdst.name):\n",
    "            if os.path.getsize(fdst.name)>0:\n",
    "\n",
    "                print(f'Product {fdst.name} exists.')\n",
    "            else:\n",
    "                shutil.copyfileobj(fsrc, fdst)\n",
    "                print(f'Download of product {product} finished.')\n",
    "    print('All downloads are finished.')\n",
    "            \n",
    "    rpath = opath+'S3_%s_%s' % (start_date.strftime(\"%Y%m%d\"),\n",
    "                                start_date.strftime(\"%Y%m%d\"))                    \n",
    "    for f in glob(opath+'S3*.zip'):\n",
    "        try:\n",
    "            with zipfile.ZipFile(f, 'r') as zip_ref:\n",
    "                print('Unziping %s' %f)\n",
    "                zip_ref.extractall(rpath)\n",
    "                os.remove(f)\n",
    "        except:\n",
    "            print('Bad zip file: %s' %f)\n",
    "\n",
    "    print(f'Done! Files in {rpath}')"
   ]
  },
  {
   "cell_type": "code",
   "execution_count": null,
   "id": "f379a68b",
   "metadata": {},
   "outputs": [],
   "source": [
    "'''\n",
    "def Sentinel_request(datastore,\n",
    "                     roi, #instead of geojson file\n",
    "                     #consumer_key, consumer_secret, # want to do auth and request separetely \n",
    "                                                     # so we can do several requests under same token\n",
    "                     collectionID='EO:EUM:DAT:0409', # give a defaul value\n",
    "                     #geojson_file, \n",
    "                     opath = './', #make key arg, shorter, default to local\n",
    "                     start_date = None, end_date = None):\n",
    "\n",
    "    #footprint = geojson_to_wkt(read_geojson(geojson_file))\n",
    "    WKT = 'POLYGON(({}))'.format(','.join([\"{} {}\".format(*coord) for coord in roi]))\n",
    "    \n",
    "    selected_collection = datastore.get_collection(collectionID)\n",
    "    print(selected_collection.title)\n",
    "    \n",
    "#     if(start_date == None or end_date == None):\n",
    "#         start_date = yesterday.strftime(\"%Y%m%d\")\n",
    "#         end_date = today.strftime(\"%Y%m%d\")\n",
    "    \n",
    "    if(end_date == None): #separate to be able to generate from start to today\n",
    "        end_date = datetime.date.today()\n",
    "    if(start_date == None):\n",
    "        start_date = end_date-timedelta(days=1)\n",
    "        \n",
    "    start_date = pd.to_datetime(start_date) # make datetime object if input date is string\n",
    "    end_date = pd.to_datetime(end_date) # make datetime object if input date is string\n",
    "    \n",
    "    print('Searching from %s to %s' %(start_date, end_date))\n",
    "    products = selected_collection.search(geo=WKT, \n",
    "                                          dtstart=start_date, \n",
    "                                          dtend=end_date)\n",
    "        \n",
    "    print(f'Found Datasets: {len(products)} datasets for the given time range')\n",
    "    for product in products:\n",
    "        with product.open() as fsrc, open(opath+fsrc.name, mode='wb') as fdst: #include opath\n",
    "            print(f'Opening {fdst} for download')\n",
    "#             if os.path.isfile(fdst.name):\n",
    "#                 print(f'Product {fdst.name} exists.')\n",
    "#             else:\n",
    "#                 shutil.copyfileobj(fsrc, fdst)\n",
    "            shutil.copyfileobj(fsrc, fdst)\n",
    "            print(f'Download of product {product} finished.')\n",
    "    print('All downloads are finished.')\n",
    "    #create folder name with request time range:\n",
    "    rpath = opath+'S3_%s_%s' % (start_date.strftime(\"%Y%m%d\"),\n",
    "                                start_date.strftime(\"%Y%m%d\"))\n",
    "    \n",
    "#     os.makedirs(rpath, exist_ok=True)\n",
    "#     rpath = '/mnt/beegfs/home/alexisa2019/Projects/SentinelProject/products'\n",
    "    \n",
    "    #unzip and remove\n",
    "    for f in glob(opath+'S3*.zip'):\n",
    "        try:\n",
    "            with zipfile.ZipFile(f, 'r') as zip_ref:\n",
    "                print('Unziping %s' %f)\n",
    "                zip_ref.extractall(rpath)\n",
    "        except:\n",
    "            print('Bad zip file: %s' %f)\n",
    "        os.remove(f)\n",
    "    print(f'Done! Files in {rpath}')'''"
   ]
  },
  {
   "cell_type": "code",
   "execution_count": 9,
   "id": "c104ab51",
   "metadata": {},
   "outputs": [
    {
     "name": "stdout",
     "output_type": "stream",
     "text": [
      "/mnt/beegfs/home/alexisa2019/Projects/SentinelProject\n"
     ]
    }
   ],
   "source": [
    "cd Sentinel "
   ]
  },
  {
   "cell_type": "code",
   "execution_count": 10,
   "id": "e2d6c28f",
   "metadata": {},
   "outputs": [
    {
     "name": "stdout",
     "output_type": "stream",
     "text": [
      "GOMEX_FB.geojson  Sentinel DL 2.ipynb  flbay.geojson\r\n",
      "LakeO.geojson     Sentinel DL.ipynb    gomex.geojson\r\n",
      "README.md         Sentinel Vis.ipynb   \u001b[0m\u001b[01;34mproducts\u001b[0m/\r\n"
     ]
    }
   ],
   "source": [
    "ls"
   ]
  },
  {
   "cell_type": "code",
   "execution_count": 12,
   "id": "31ab7805",
   "metadata": {},
   "outputs": [
    {
     "name": "stdout",
     "output_type": "stream",
     "text": [
      "This token '2e532d2e-0033-33ec-8dbb-2ba6f29c8ef9' expires 2022-08-25 01:48:27.579249\n",
      "OLCI Level 1B Full Resolution - Sentinel-3\n",
      "Searching from 2022-03-23 00:00:00 to 2022-03-24 00:00:00\n",
      "Found Datasets: 1 datasets for the given time range\n",
      "Download of product S3B_OL_1_EFR____20220323T152738_20220323T153038_20220324T205601_0179_064_068_2520_MAR_O_NT_002.SEN3 finished.\n",
      "All downloads are finished.\n",
      "Unziping ./products/S3B_OL_1_EFR____20220323T152738_20220323T153038_20220324T205601_0179_064_068_2520_MAR_O_NT_002.SEN3.zip\n",
      "Done! Files in ./products/S3_20220323_20220323\n"
     ]
    }
   ],
   "source": [
    "consumer_key = 'yawsJIqGoAetBf_MqpcByUwnrWMa'\n",
    "consumer_secret = 'w6nWuFAtEgPhFESfK7Q4MzOs9t0a'\n",
    "\n",
    "roi = [[-81.0955810546875,26.675685969067487],\n",
    "       [-80.54489135742188,26.675685969067487],\n",
    "       [-80.54489135742188,27.243641579169292],\n",
    "       [-81.0955810546875,27.243641579169292],\n",
    "       [-81.0955810546875,26.675685969067487]]\n",
    "\n",
    "datastore = get_datastore(consumer_key, consumer_secret)\n",
    "Sentinel_request(datastore, roi, opath='./products/', start_date=datetime.date(2022,3,23),\n",
    "                 end_date=datetime.date(2022,3,24))"
   ]
  },
  {
   "cell_type": "code",
   "execution_count": 2,
   "id": "3a5e0253",
   "metadata": {},
   "outputs": [],
   "source": [
    "# consumer_key = 'yawsJIqGoAetBf_MqpcByUwnrWMa'\n",
    "# consumer_secret = 'w6nWuFAtEgPhFESfK7Q4MzOs9t0a'\n",
    "\n",
    "# credentials = (consumer_key, consumer_secret)\n",
    "\n",
    "# token = eumdac.AccessToken(credentials)"
   ]
  },
  {
   "cell_type": "code",
   "execution_count": 3,
   "id": "414414f9",
   "metadata": {},
   "outputs": [
    {
     "name": "stdout",
     "output_type": "stream",
     "text": [
      "EO:EUM:DAT:0556: OLCI Level 2 Ocean Colour Full Resolution (version BC003) - Sentinel-3 - Reprocessed\n",
      "EO:EUM:DAT:0411: SLSTR Level 1B Radiances and Brightness Temperatures - Sentinel-3\n",
      "EO:EUM:DAT:0407: OLCI Level 2 Ocean Colour Full Resolution - Sentinel-3\n",
      "EO:EUM:DAT:0409: OLCI Level 1B Full Resolution - Sentinel-3\n",
      "EO:EUM:DAT:0557: OLCI Level 2 Ocean Colour Reduced Resolution (version BC003) - Sentinel-3 - Reprocessed\n",
      "EO:EUM:DAT:0412: SLSTR Level 2 Sea Surface Temperature (SST) - Sentinel-3\n",
      "EO:EUM:DAT:0416: SLSTR Level 2 Aerosol Optical Depth - Sentinel-3\n",
      "EO:EUM:DAT:0406: SRAL Level 1B - Sentinel-3\n",
      "EO:EUM:DAT:0415: SRAL Level 2 Altimetry Global - Sentinel-3\n",
      "EO:EUM:DAT:0413: SRAL Level 1A Unpacked L0 Complex echos - Sentinel-3\n",
      "EO:EUM:DAT:0414: SRAL Level 1B stack echoes - Sentinel-3\n",
      "EO:EUM:DAT:0410: OLCI Level 1B Reduced Resolution - Sentinel-3\n",
      "EO:EUM:DAT:0408: OLCI Level 2 Ocean Colour Reduced Resolution - Sentinel-3\n"
     ]
    }
   ],
   "source": [
    "# create data store object\n",
    "# datastore = eumdac.DataStore(token)\n",
    "\n",
    "# show all collections:\n",
    "for collectionID in datastore.collections:\n",
    "    if 'Sentinel-3' in collectionID.title:\n",
    "        print(f\"{collectionID}: {collectionID.title}\")"
   ]
  },
  {
   "cell_type": "code",
   "execution_count": 4,
   "id": "10731ce4",
   "metadata": {},
   "outputs": [
    {
     "name": "stdout",
     "output_type": "stream",
     "text": [
      "OLCI Level 1B Full Resolution - Sentinel-3\n"
     ]
    }
   ],
   "source": [
    "# collectionID = 'EO:EUM:DAT:0407' # set collection ID for OLCI L2 WFR\n",
    "collectionID = 'EO:EUM:DAT:0409' # set collection ID for OLCI L1\n",
    "\n",
    "# Use collection ID\n",
    "selected_collection = datastore.get_collection(collectionID)\n",
    "print(selected_collection.title)"
   ]
  },
  {
   "cell_type": "code",
   "execution_count": 5,
   "id": "f5bd3724",
   "metadata": {},
   "outputs": [],
   "source": [
    "roi = [[-81.0955810546875,26.675685969067487],\n",
    "       [-80.54489135742188,26.675685969067487],\n",
    "       [-80.54489135742188,27.243641579169292],\n",
    "       [-81.0955810546875,27.243641579169292],\n",
    "       [-81.0955810546875,26.675685969067487]]\n",
    "\n",
    "WKT = 'POLYGON(({}))'.format(','.join([\"{} {}\".format(*coord) for coord in roi]))"
   ]
  },
  {
   "cell_type": "code",
   "execution_count": 6,
   "id": "a06d1639",
   "metadata": {
    "scrolled": true
   },
   "outputs": [
    {
     "name": "stdout",
     "output_type": "stream",
     "text": [
      "S3A_OL_1_EFR____20220324T154054_20220324T154354_20220325T194954_0179_083_225_2520_MAR_O_NT_002.SEN3\n",
      "S3B_OL_1_EFR____20220324T150127_20220324T150427_20220325T201204_0180_064_082_2520_MAR_O_NT_002.SEN3\n",
      "S3B_OL_1_EFR____20220323T152738_20220323T153038_20220324T205601_0179_064_068_2520_MAR_O_NT_002.SEN3\n"
     ]
    }
   ],
   "source": [
    "# time filter the collection for products\n",
    "prodList = []\n",
    "start = datetime.date(2022, 3, 23)\n",
    "end = datetime.date(2022, 3, 24)\n",
    "products = selected_collection.search(geo=WKT, dtstart=start, dtend=end)\n",
    "\n",
    "for product in products:\n",
    "    print(product)\n",
    "    prodList.append(product)"
   ]
  },
  {
   "cell_type": "code",
   "execution_count": 22,
   "id": "c2ceb48d",
   "metadata": {},
   "outputs": [
    {
     "name": "stdout",
     "output_type": "stream",
     "text": [
      "Downloading S3A_OL_1_EFR____20220324T154054_20220324T154354_20220325T194954_0179_083_225_2520_MAR_O_NT_002.SEN3.zip\n",
      "Download of product S3A_OL_1_EFR____20220324T154054_20220324T154354_20220325T194954_0179_083_225_2520_MAR_O_NT_002.SEN3.zip finished.\n"
     ]
    },
    {
     "ename": "BadZipFile",
     "evalue": "File is not a zip file",
     "output_type": "error",
     "traceback": [
      "\u001b[0;31m---------------------------------------------------------------------------\u001b[0m",
      "\u001b[0;31mBadZipFile\u001b[0m                                Traceback (most recent call last)",
      "Input \u001b[0;32mIn [22]\u001b[0m, in \u001b[0;36m<cell line: 5>\u001b[0;34m()\u001b[0m\n\u001b[1;32m     10\u001b[0m filePath \u001b[38;5;241m=\u001b[39m os\u001b[38;5;241m.\u001b[39mpath\u001b[38;5;241m.\u001b[39mjoin(os\u001b[38;5;241m.\u001b[39mgetcwd(), \u001b[38;5;124m\"\u001b[39m\u001b[38;5;124mproducts/S3A_OL_1_EFR____20220324T154054_20220324T154354_20220325T194954_0179_083_225_2520_MAR_O_NT_002.SEN3.zip\u001b[39m\u001b[38;5;124m\"\u001b[39m)\n\u001b[1;32m     12\u001b[0m dl_dir \u001b[38;5;241m=\u001b[39m os\u001b[38;5;241m.\u001b[39mpath\u001b[38;5;241m.\u001b[39mjoin(os\u001b[38;5;241m.\u001b[39mgetcwd(), \u001b[38;5;124m\"\u001b[39m\u001b[38;5;124mproducts\u001b[39m\u001b[38;5;124m\"\u001b[39m)\n\u001b[0;32m---> 14\u001b[0m \u001b[38;5;28;01mwith\u001b[39;00m \u001b[43mzipfile\u001b[49m\u001b[38;5;241;43m.\u001b[39;49m\u001b[43mZipFile\u001b[49m\u001b[43m(\u001b[49m\u001b[43mfilePath\u001b[49m\u001b[43m,\u001b[49m\u001b[43m \u001b[49m\u001b[38;5;124;43m'\u001b[39;49m\u001b[38;5;124;43mr\u001b[39;49m\u001b[38;5;124;43m'\u001b[39;49m\u001b[43m)\u001b[49m \u001b[38;5;28;01mas\u001b[39;00m zip_ref:\n\u001b[1;32m     15\u001b[0m     zip_ref\u001b[38;5;241m.\u001b[39mextractall(dl_dir)\n",
      "File \u001b[0;32m~/.conda/envs/myCdom/lib/python3.10/zipfile.py:1267\u001b[0m, in \u001b[0;36mZipFile.__init__\u001b[0;34m(self, file, mode, compression, allowZip64, compresslevel, strict_timestamps)\u001b[0m\n\u001b[1;32m   1265\u001b[0m \u001b[38;5;28;01mtry\u001b[39;00m:\n\u001b[1;32m   1266\u001b[0m     \u001b[38;5;28;01mif\u001b[39;00m mode \u001b[38;5;241m==\u001b[39m \u001b[38;5;124m'\u001b[39m\u001b[38;5;124mr\u001b[39m\u001b[38;5;124m'\u001b[39m:\n\u001b[0;32m-> 1267\u001b[0m         \u001b[38;5;28;43mself\u001b[39;49m\u001b[38;5;241;43m.\u001b[39;49m\u001b[43m_RealGetContents\u001b[49m\u001b[43m(\u001b[49m\u001b[43m)\u001b[49m\n\u001b[1;32m   1268\u001b[0m     \u001b[38;5;28;01melif\u001b[39;00m mode \u001b[38;5;129;01min\u001b[39;00m (\u001b[38;5;124m'\u001b[39m\u001b[38;5;124mw\u001b[39m\u001b[38;5;124m'\u001b[39m, \u001b[38;5;124m'\u001b[39m\u001b[38;5;124mx\u001b[39m\u001b[38;5;124m'\u001b[39m):\n\u001b[1;32m   1269\u001b[0m         \u001b[38;5;66;03m# set the modified flag so central directory gets written\u001b[39;00m\n\u001b[1;32m   1270\u001b[0m         \u001b[38;5;66;03m# even if no files are added to the archive\u001b[39;00m\n\u001b[1;32m   1271\u001b[0m         \u001b[38;5;28mself\u001b[39m\u001b[38;5;241m.\u001b[39m_didModify \u001b[38;5;241m=\u001b[39m \u001b[38;5;28;01mTrue\u001b[39;00m\n",
      "File \u001b[0;32m~/.conda/envs/myCdom/lib/python3.10/zipfile.py:1334\u001b[0m, in \u001b[0;36mZipFile._RealGetContents\u001b[0;34m(self)\u001b[0m\n\u001b[1;32m   1332\u001b[0m     \u001b[38;5;28;01mraise\u001b[39;00m BadZipFile(\u001b[38;5;124m\"\u001b[39m\u001b[38;5;124mFile is not a zip file\u001b[39m\u001b[38;5;124m\"\u001b[39m)\n\u001b[1;32m   1333\u001b[0m \u001b[38;5;28;01mif\u001b[39;00m \u001b[38;5;129;01mnot\u001b[39;00m endrec:\n\u001b[0;32m-> 1334\u001b[0m     \u001b[38;5;28;01mraise\u001b[39;00m BadZipFile(\u001b[38;5;124m\"\u001b[39m\u001b[38;5;124mFile is not a zip file\u001b[39m\u001b[38;5;124m\"\u001b[39m)\n\u001b[1;32m   1335\u001b[0m \u001b[38;5;28;01mif\u001b[39;00m \u001b[38;5;28mself\u001b[39m\u001b[38;5;241m.\u001b[39mdebug \u001b[38;5;241m>\u001b[39m \u001b[38;5;241m1\u001b[39m:\n\u001b[1;32m   1336\u001b[0m     \u001b[38;5;28mprint\u001b[39m(endrec)\n",
      "\u001b[0;31mBadZipFile\u001b[0m: File is not a zip file"
     ]
    }
   ],
   "source": [
    "product = prodList[0]\n",
    "\n",
    "selected_product = datastore.get_product(product_id=str(product), collection_id=collectionID)\n",
    "\n",
    "with selected_product.open() as fsrc, open(os.path.join(download_dir, fsrc.name), mode='wb') as fdst:\n",
    "    print(f'Downloading {fsrc.name}')\n",
    "    shutil.copyfileobj(fsrc, fdst)\n",
    "    print(f'Download of product {fsrc.name} finished.')\n",
    "                \n",
    "#         os.remove(filePath)"
   ]
  },
  {
   "cell_type": "code",
   "execution_count": 23,
   "id": "a466fb1c",
   "metadata": {},
   "outputs": [],
   "source": [
    "filePath = os.path.join(os.getcwd(), \"products/S3A_OL_1_EFR____20220324T154054_20220324T154354_20220325T194954_0179_083_225_2520_MAR_O_NT_002.SEN3.zip\")\n",
    "   \n",
    "dl_dir = os.path.join(os.getcwd(), \"products\")\n",
    "                            \n",
    "with zipfile.ZipFile(filePath, 'r') as zip_ref:\n",
    "    zip_ref.extractall(dl_dir)"
   ]
  }
 ],
 "metadata": {
  "kernelspec": {
   "display_name": "Python 3 (ipykernel)",
   "language": "python",
   "name": "python3"
  },
  "language_info": {
   "codemirror_mode": {
    "name": "ipython",
    "version": 3
   },
   "file_extension": ".py",
   "mimetype": "text/x-python",
   "name": "python",
   "nbconvert_exporter": "python",
   "pygments_lexer": "ipython3",
   "version": "3.10.4"
  }
 },
 "nbformat": 4,
 "nbformat_minor": 5
}
